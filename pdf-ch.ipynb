{
 "cells": [
  {
   "cell_type": "code",
   "execution_count": 1,
   "metadata": {},
   "outputs": [],
   "source": [
    "import PyPDF2\n",
    "from PyPDF2 import PdfReader\n",
    "def split_pdf_into_chunkss(pdf_path):\n",
    "    # Open the PDF file and create a PDF reader object\n",
    "    with open(pdf_path, 'rb') as file:\n",
    "        pdf_reader = PdfReader(file)\n",
    "        \n",
    "        # Loop through each page of the PDF\n",
    "        chunk_num = 0\n",
    "        total_chunks = 0\n",
    "        for page_num in range(len(pdf_reader.pages)):\n",
    "            page = pdf_reader.pages[page_num]\n",
    "            page_text = page.extract_text()\n",
    "            \n",
    "            # Split the page text into chunks based on paragraphs\n",
    "            chunks = []\n",
    "            current_chunk = \"\"\n",
    "            for line in page_text.splitlines():\n",
    "                if line.strip() == \"\":\n",
    "                    # End of paragraph, add current chunk to chunks list\n",
    "                    if current_chunk != \"\":\n",
    "                        chunks.append(current_chunk.strip())\n",
    "                        current_chunk = \"\"\n",
    "                else:\n",
    "                    # Add current line to current chunk\n",
    "                    current_chunk += line.strip() + \" \"\n",
    "            \n",
    "            # Add the last chunk if it's not empty\n",
    "            if current_chunk != \"\":\n",
    "                chunks.append(current_chunk.strip())\n",
    "                \n",
    "            # Merge consecutive chunks that have similar context\n",
    "            merged_chunks = []\n",
    "            current_merged_chunk = chunks[0]\n",
    "            for chunk in chunks[1:]:\n",
    "                if chunk[0].isalpha() == current_merged_chunk[-1].isalpha():\n",
    "                    # Same context, merge with current merged chunk\n",
    "                    current_merged_chunk += \" \" + chunk\n",
    "                else:\n",
    "                    # Different context, add current merged chunk to merged chunks list\n",
    "                    merged_chunks.append(current_merged_chunk)\n",
    "                    current_merged_chunk = chunk\n",
    "            merged_chunks.append(current_merged_chunk)\n",
    "            \n",
    "            # Group lists and bulletins together\n",
    "            final_chunks = []\n",
    "            current_list_chunk = \"\"\n",
    "            for chunk in merged_chunks:\n",
    "                if chunk.startswith(\"- \") or chunk.startswith(\"• \"):\n",
    "                    # Start of list or bulletin, add current list chunk to final chunks list\n",
    "                    if current_list_chunk != \"\":\n",
    "                        final_chunks.append(current_list_chunk.strip())\n",
    "                        current_list_chunk = \"\"\n",
    "                    current_list_chunk = chunk\n",
    "                else:\n",
    "                    # Not a list or bulletin, add to current list chunk\n",
    "                    current_list_chunk += \"\\n\" + chunk\n",
    "            if current_list_chunk != \"\":\n",
    "                final_chunks.append(current_list_chunk.strip())\n",
    "                \n",
    "            total_chunks += len(final_chunks)\n",
    "            \n",
    "            # Yield each final chunk with chunk number\n",
    "            for i, chunk in enumerate(final_chunks, start=1):\n",
    "                chunk_num += 1\n",
    "                print(f\"Chunk {chunk_num} out of {total_chunks}:\")\n",
    "                print(chunk)\n",
    "                if i < len(final_chunks):\n",
    "                    print()  # Add blank line between chunks\n"
   ]
  },
  {
   "cell_type": "code",
   "execution_count": 2,
   "metadata": {},
   "outputs": [
    {
     "name": "stdout",
     "output_type": "stream",
     "text": [
      "Chunk 1 out of 1:\n",
      "Report on Rossmann Pharmaceutical Sales Prediction . By: Bekalu Tadele:  bekiman21@gmail.com Business Overview The finance team of Rossmann Pharmaceutical wants to forecast sales in all their stores across several cities six weeks ahead of time. Managers in individual stores rely on their years of experience as well as their personal judgment to forecast sales. The data team identified factors such as promotions, competition, school and state holidays, seasonality, and locality  as necessary for predicting the sales across the various stores. Preprocessing Before using,  the data and start exploring to make visualizat ions we need to prepare the raw data. We have three  data we will use for this preprocessing.\n",
      "Chunk 2 out of 2:\n",
      "Some portion of data in train.csv fil e First header test data  under  test.csv fil e First header store  data under  store.csv fil e  Merge separate tables; train & store data train_df = pd.merge(train_df, store_df, how='inner', on='Store' ) train_df.info( )  test & store data test_df = pd.merge(test_df, store_df, how='inner', on='Store' ) test_df.info( )  detecting outlier in the data\n",
      "Chunk 3 out of 3:\n",
      " Filling missing values with mean for numerical variables, a mode for non-numerical, categorical,  or textual data . fill_mean = ['Promo2SinceYear', 'Promo2SinceWeek', 'CompetitionOpenSinceMonth', 'CompetitionO penSinceYear', 'CompetitionDistance'] train_df = preprocess.fill_median(train_df, fill_mean) test_df = preprocess.fill_median(test_df, fill_mean) # Fill the PromoInterval with mode values train_df = preprocess.fill_mode(train_df, ['PromoInterval']) test_d f = preprocess.fill_mode(test_df, ['PromoInterval']) # Fill Open with 0 in test data test_df = preprocess.fill_with_zero(test_df, ['Open'])  Convert the ‘Date’ to datetime so we can divide it to month, day, and year for time -required explorations.\n",
      "Chunk 4 out of 4:\n",
      "Data Ex ploration Here we will explore the behavior of customers in the various stores. Our goal is to check how some measures such as promos and opening of new stores affect purchasing behavior. We use the following points as a guide during your analysis.  Sales behavior before, during and after holidays We can see from the above comparison public holidays have more purchase, Christmas has the least purchase sales\n",
      "Chunk 5 out of 5:\n",
      " Seasonal (Christmas, Easter etc) purchase behaviors\n",
      "Chunk 6 out of 6:\n",
      "Sales goes up around December, at time s of Christmas and New Years.  Correlation between sales and number of customers\n",
      "Chunk 7 out of 7:\n",
      " It can be clearly seen that there is a positive correlation between the number of sales and the number of customers Show that there is a positive correlation between the number of sales and the number of customers for the store types.\n",
      "Chunk 8 out of 8:\n",
      "Promotion affects the sales in a positive way, the increase to promotion leads to an increase in sales.  Number of sales through out the week.\n",
      "Shows that sales of the last day of the week is almost close to 0, none\n",
      "Chunk 9 out of 9:\n",
      " How the asso rtment type affects sales Assortment  (A collection of goods or services provided to a consumer.) b has highest sales and a has the lowest sale.\n",
      "Summery  More stores are opened during school holidays, compared to state holidays  There is a positive correlation between the number of sales and the number of customers for the store types.  Promotion affects the sales in a positive way, the increase to promotion leads to an increase in sales.\n"
     ]
    }
   ],
   "source": [
    "split_pdf_into_chunkss('D:\\Final Intrim Report.pdf')"
   ]
  }
 ],
 "metadata": {
  "kernelspec": {
   "display_name": "base",
   "language": "python",
   "name": "python3"
  },
  "language_info": {
   "codemirror_mode": {
    "name": "ipython",
    "version": 3
   },
   "file_extension": ".py",
   "mimetype": "text/x-python",
   "name": "python",
   "nbconvert_exporter": "python",
   "pygments_lexer": "ipython3",
   "version": "3.8.8"
  },
  "orig_nbformat": 4
 },
 "nbformat": 4,
 "nbformat_minor": 2
}
